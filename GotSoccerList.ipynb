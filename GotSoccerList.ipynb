{
 "cells": [
  {
   "cell_type": "code",
   "execution_count": null,
   "id": "830c2e47",
   "metadata": {},
   "outputs": [],
   "source": [
    "import requests\n",
    "import urllib.request\n",
    "import time\n",
    "import pandas as pd\n",
    "import numpy as np\n",
    "from bs4 import BeautifulSoup\n",
    "from selenium import webdriver\n",
    "from selenium.webdriver.common.by import By\n",
    "from selenium.webdriver.support.ui import WebDriverWait\n",
    "from selenium.webdriver.support import expected_conditions as EC\n",
    "from selenium.common.exceptions import TimeoutException\n",
    "import time\n",
    "from urllib.request import urlopen\n",
    "import re"
   ]
  },
  {
   "cell_type": "code",
   "execution_count": null,
   "id": "aecac2e4",
   "metadata": {},
   "outputs": [],
   "source": [
    "driver = webdriver.Chrome(executable_path='/Users/jona.gonzalez/Documents/Python Projects/chromedriver')"
   ]
  },
  {
   "cell_type": "code",
   "execution_count": null,
   "id": "e7937290",
   "metadata": {},
   "outputs": [],
   "source": [
    "url = \"https://home.gotsoccer.com/rankings/results.aspx?level=Global&gender=Boys&age=15\"\n",
    "driver.get(url)"
   ]
  },
  {
   "cell_type": "code",
   "execution_count": null,
   "id": "1dd51b98",
   "metadata": {},
   "outputs": [],
   "source": [
    "html = urlopen(url)\n",
    "soup = BeautifulSoup(html, 'lxml')\n",
    "soup.prettify()"
   ]
  },
  {
   "cell_type": "code",
   "execution_count": null,
   "id": "c70fa9e7",
   "metadata": {},
   "outputs": [],
   "source": [
    "web_info = soup.find_all('a', href=True)\n",
    "tablerows = soup.find_all('a', attrs={'href':re.compile(\"team.aspx?\")})\n",
    "#tablerow = soup.find_all('tr')\n",
    "#moreinfo1 = tablerow.find('a', attrs={'href':re.compile(\"VolleyballClubDirectory\")})"
   ]
  },
  {
   "cell_type": "code",
   "execution_count": null,
   "id": "e8e48846",
   "metadata": {},
   "outputs": [],
   "source": [
    "tablerows['href']"
   ]
  },
  {
   "cell_type": "code",
   "execution_count": null,
   "id": "b2f9b3d9",
   "metadata": {},
   "outputs": [],
   "source": [
    "gotsoccerwebsite = []\n",
    "for tablerow in tablerows:\n",
    "    getwebsite = tablerow['href']\n",
    "    gotsoccerwebsite.append(getwebsite)"
   ]
  },
  {
   "cell_type": "code",
   "execution_count": null,
   "id": "3520a88c",
   "metadata": {},
   "outputs": [],
   "source": [
    "team_names = []\n",
    "for tablerow in tablerows:\n",
    "    getteamtext = tablerow.getText()\n",
    "    team_names.append(getteamtext)"
   ]
  },
  {
   "cell_type": "code",
   "execution_count": null,
   "id": "f36132e1",
   "metadata": {},
   "outputs": [],
   "source": [
    "del gotsoccerwebsite1\n",
    "del team_names1"
   ]
  },
  {
   "cell_type": "code",
   "execution_count": null,
   "id": "fcb1a06f",
   "metadata": {},
   "outputs": [],
   "source": [
    "gotsoccerwebsite1 = []\n",
    "team_names1 = []\n",
    "\n",
    "for x in range(1,165):\n",
    "    url = \"https://home.gotsoccer.com/rankings/results.aspx?Page=\"+str(x)+\"?level=Global&gender=Girls&age=12\"\n",
    "    driver.get(url)\n",
    "    time.sleep(5)\n",
    "    html = urlopen(url)    \n",
    "    soup = BeautifulSoup(html, 'lxml')\n",
    "    tablerows = soup.find_all('a', attrs={'href':re.compile(\"team.aspx?\")})\n",
    "\n",
    "    for tablerow in tablerows:\n",
    "        getwebsite = tablerow['href']\n",
    "        gotsoccerwebsite1.append(getwebsite)\n",
    "        getteamtext = tablerow.getText()\n",
    "        team_names1.append(getteamtext)"
   ]
  },
  {
   "cell_type": "code",
   "execution_count": null,
   "id": "5f3e178f",
   "metadata": {},
   "outputs": [],
   "source": [
    "MasterWebsites = gotsoccerwebsite1"
   ]
  },
  {
   "cell_type": "code",
   "execution_count": null,
   "id": "c3a292fa",
   "metadata": {},
   "outputs": [],
   "source": [
    "print(len(MasterWebsites))"
   ]
  },
  {
   "cell_type": "code",
   "execution_count": null,
   "id": "631df04f",
   "metadata": {},
   "outputs": [],
   "source": [
    "MasterTeamNames = team_names1"
   ]
  },
  {
   "cell_type": "code",
   "execution_count": null,
   "id": "3c21bf32",
   "metadata": {},
   "outputs": [],
   "source": [
    "print(len(MasterTeamNames))"
   ]
  },
  {
   "cell_type": "code",
   "execution_count": null,
   "id": "1c099c70",
   "metadata": {},
   "outputs": [],
   "source": [
    "df = pd.DataFrame(list(zip(MasterWebsites, MasterTeamNames)), columns=['Website','Team Name'])"
   ]
  },
  {
   "cell_type": "code",
   "execution_count": null,
   "id": "34b6b2dc",
   "metadata": {},
   "outputs": [],
   "source": [
    "df.to_csv('/Users/jona.gonzalez/Documents/Python Projects/VolleyBall/Got Soccer/GotSoccerMasterGU12.csv')"
   ]
  },
  {
   "cell_type": "code",
   "execution_count": null,
   "id": "2d1adc65",
   "metadata": {},
   "outputs": [],
   "source": []
  }
 ],
 "metadata": {
  "kernelspec": {
   "display_name": "Python 3 (ipykernel)",
   "language": "python",
   "name": "python3"
  },
  "language_info": {
   "codemirror_mode": {
    "name": "ipython",
    "version": 3
   },
   "file_extension": ".py",
   "mimetype": "text/x-python",
   "name": "python",
   "nbconvert_exporter": "python",
   "pygments_lexer": "ipython3",
   "version": "3.9.7"
  }
 },
 "nbformat": 4,
 "nbformat_minor": 5
}
