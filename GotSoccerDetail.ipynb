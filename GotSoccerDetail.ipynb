{
 "cells": [
  {
   "cell_type": "code",
   "execution_count": null,
   "id": "e3509d39",
   "metadata": {},
   "outputs": [],
   "source": [
    "import requests\n",
    "import urllib.request\n",
    "import time\n",
    "import pandas as pd\n",
    "import numpy as np\n",
    "from bs4 import BeautifulSoup\n",
    "from selenium import webdriver\n",
    "from selenium.webdriver.common.by import By\n",
    "from selenium.webdriver.support.ui import WebDriverWait\n",
    "from selenium.webdriver.support import expected_conditions as EC\n",
    "from selenium.common.exceptions import TimeoutException\n",
    "import time\n",
    "from urllib.request import urlopen\n",
    "import re"
   ]
  },
  {
   "cell_type": "code",
   "execution_count": null,
   "id": "575bc026",
   "metadata": {},
   "outputs": [],
   "source": [
    "driver = webdriver.Chrome(executable_path='/Users/jona.gonzalez/Documents/Python Projects/chromedriver')"
   ]
  },
  {
   "cell_type": "code",
   "execution_count": null,
   "id": "2847c1ef",
   "metadata": {},
   "outputs": [],
   "source": [
    "url = \"https://home.gotsoccer.com/rankings/team.aspx?teamid=1203875\"\n",
    "driver.get(url)"
   ]
  },
  {
   "cell_type": "code",
   "execution_count": null,
   "id": "5f5f3494",
   "metadata": {},
   "outputs": [],
   "source": [
    "html = urlopen(url)\n",
    "soup = BeautifulSoup(html, 'lxml')\n",
    "soup.prettify()"
   ]
  },
  {
   "cell_type": "code",
   "execution_count": null,
   "id": "f2ddce21",
   "metadata": {},
   "outputs": [],
   "source": [
    "# loc_info = soup.find_all('ul')\n",
    "# print(loc_info)\n",
    "\n",
    "testsoup = soup.find('section', class_=\"page-header-team bg-overlay-secondary2 p-reduced\")\n",
    "print(testsoup)"
   ]
  },
  {
   "cell_type": "code",
   "execution_count": null,
   "id": "bd1d6a7a",
   "metadata": {},
   "outputs": [],
   "source": [
    "loc_info = testsoup.find('ul')"
   ]
  },
  {
   "cell_type": "code",
   "execution_count": null,
   "id": "b7b9574d",
   "metadata": {},
   "outputs": [],
   "source": [
    "location = loc_info.find_all('li')"
   ]
  },
  {
   "cell_type": "code",
   "execution_count": null,
   "id": "fefcd49c",
   "metadata": {},
   "outputs": [],
   "source": [
    "#Club Location\n",
    "clubloc = location[0].get_text()\n",
    "clubloc"
   ]
  },
  {
   "cell_type": "code",
   "execution_count": null,
   "id": "91ddc242",
   "metadata": {},
   "outputs": [],
   "source": [
    "#Club Website\n",
    "clubwebsite = location[3].get_text()\n",
    "clubwebsite"
   ]
  },
  {
   "cell_type": "code",
   "execution_count": null,
   "id": "64d01f66",
   "metadata": {},
   "outputs": [],
   "source": [
    "#Club Name\n",
    "club_name = testsoup.find('h4').get_text()\n",
    "club_name"
   ]
  },
  {
   "cell_type": "code",
   "execution_count": null,
   "id": "dbc9aae7",
   "metadata": {},
   "outputs": [],
   "source": [
    "teaminfo_block = soup.find('table', class_=\"stat-table w-100\")\n",
    "print(teaminfo_block)"
   ]
  },
  {
   "cell_type": "code",
   "execution_count": null,
   "id": "ffe89c4a",
   "metadata": {},
   "outputs": [],
   "source": [
    "coach_manager = teaminfo_block.find_all('a', href=True)"
   ]
  },
  {
   "cell_type": "code",
   "execution_count": null,
   "id": "295076ec",
   "metadata": {},
   "outputs": [],
   "source": [
    "#Coach Name\n",
    "coach = coach_manager[0].get_text()\n",
    "coach"
   ]
  },
  {
   "cell_type": "code",
   "execution_count": null,
   "id": "d16d7948",
   "metadata": {},
   "outputs": [],
   "source": [
    "#Manager Name\n",
    "manager = coach_manager[1].get_text()\n",
    "manager"
   ]
  },
  {
   "cell_type": "code",
   "execution_count": null,
   "id": "c65427d4",
   "metadata": {},
   "outputs": [],
   "source": [
    "del GSM"
   ]
  },
  {
   "cell_type": "code",
   "execution_count": null,
   "id": "8d8c61ec",
   "metadata": {},
   "outputs": [],
   "source": [
    "GSM = pd.read_csv('/Users/jona.gonzalez/Documents/Python Projects/VolleyBall/Got Soccer/Master/GS45k.csv')"
   ]
  },
  {
   "cell_type": "code",
   "execution_count": null,
   "id": "0aba5970",
   "metadata": {},
   "outputs": [],
   "source": [
    "GSM.head(30)"
   ]
  },
  {
   "cell_type": "code",
   "execution_count": null,
   "id": "383fabb7",
   "metadata": {},
   "outputs": [],
   "source": [
    "del weblist"
   ]
  },
  {
   "cell_type": "code",
   "execution_count": null,
   "id": "49ba582d",
   "metadata": {},
   "outputs": [],
   "source": [
    "weblist = GSM['Website'].to_list()"
   ]
  },
  {
   "cell_type": "code",
   "execution_count": null,
   "id": "5bdd82b6",
   "metadata": {},
   "outputs": [],
   "source": [
    "len(weblist)"
   ]
  },
  {
   "cell_type": "code",
   "execution_count": null,
   "id": "3fc1a3af",
   "metadata": {},
   "outputs": [],
   "source": [
    "location_list = []\n",
    "website_list = []\n",
    "clubname_list = []\n",
    "coachname_list = []\n",
    "managername_list = []\n",
    "\n",
    "# test_site = ['https://home.gotsoccer.com/rankings/team.aspx?teamid=1166135', \n",
    "#              'https://home.gotsoccer.com/rankings/team.aspx?teamid=678460']\n",
    "\n",
    "\n",
    "\n",
    "for wl in weblist:\n",
    "    url2 = wl\n",
    "    driver.get(url2)\n",
    "    time.sleep(3)\n",
    "    html = urlopen(url2)\n",
    "    soup = BeautifulSoup(html, 'lxml')\n",
    "    #Location Block\n",
    "    loc_info = testsoup.find('ul')\n",
    "    location = loc_info.find_all('li')\n",
    "    #\n",
    "    testsoup = soup.find('section', class_=\"page-header-team bg-overlay-secondary2 p-reduced\")\n",
    "    teaminfo_block = soup.find('table', class_=\"stat-table w-100\")\n",
    "    coach_manager = teaminfo_block.find_all('a', href=True)\n",
    "    \n",
    "    #Location\n",
    "    try:\n",
    "        clubloc = location[0].get_text()\n",
    "        location_list.append(clubloc)\n",
    "    except:\n",
    "        location_list.append('N/A')\n",
    "        \n",
    "    #Club Website\n",
    "    try:\n",
    "        clubwebsite = location[3].get_text()\n",
    "        website_list.append(clubwebsite)\n",
    "    except:\n",
    "        website_list.append('N/A')\n",
    "    \n",
    "    #Club Name\n",
    "    try:\n",
    "        club_name = testsoup.find('h4').get_text()\n",
    "        clubname_list.append(club_name)\n",
    "    except:\n",
    "        clubname_list.append('N/A')\n",
    "    \n",
    "    #Coach Name\n",
    "    try:\n",
    "        coach = coach_manager[0].get_text()\n",
    "        coachname_list.append(coach)\n",
    "    except:\n",
    "        coachname_list.append('N/A')\n",
    "    \n",
    "    #Manager Name\n",
    "    try:\n",
    "        manager = coach_manager[1].get_text()\n",
    "        managername_list.append(manager)\n",
    "    except:\n",
    "        managername_list.append('N/A')\n",
    "    \n",
    "    print(wl)\n",
    "#     print(location_list)\n",
    "#     print(website_list)\n",
    "#     print(clubname_list)\n",
    "#     print(coachname_list)\n",
    "#     print(managername_list)"
   ]
  },
  {
   "cell_type": "code",
   "execution_count": null,
   "id": "4b75f69f",
   "metadata": {},
   "outputs": [],
   "source": [
    "del location_list\n",
    "del website_list\n",
    "del clubname_list\n",
    "del coachname_list\n",
    "del managername_list"
   ]
  },
  {
   "cell_type": "code",
   "execution_count": null,
   "id": "b1e7d1ec",
   "metadata": {},
   "outputs": [],
   "source": [
    "len(location_list)"
   ]
  },
  {
   "cell_type": "code",
   "execution_count": null,
   "id": "9917e666",
   "metadata": {},
   "outputs": [],
   "source": [
    "del df"
   ]
  },
  {
   "cell_type": "code",
   "execution_count": null,
   "id": "6218c89f",
   "metadata": {},
   "outputs": [],
   "source": [
    "df = pd.DataFrame(list(zip(location_list, clubname_list, website_list, coachname_list, managername_list)), columns=['Emails','Club Name', 'Club Website', 'Coach', 'Manager'])"
   ]
  },
  {
   "cell_type": "code",
   "execution_count": null,
   "id": "4e4aac18",
   "metadata": {},
   "outputs": [],
   "source": [
    "df.to_csv('/Users/jona.gonzalez/Documents/Python Projects/VolleyBall/Got Soccer/Master/GS40k.2_Results.csv')"
   ]
  },
  {
   "cell_type": "code",
   "execution_count": null,
   "id": "33660b92",
   "metadata": {},
   "outputs": [],
   "source": []
  }
 ],
 "metadata": {
  "kernelspec": {
   "display_name": "Python 3 (ipykernel)",
   "language": "python",
   "name": "python3"
  },
  "language_info": {
   "codemirror_mode": {
    "name": "ipython",
    "version": 3
   },
   "file_extension": ".py",
   "mimetype": "text/x-python",
   "name": "python",
   "nbconvert_exporter": "python",
   "pygments_lexer": "ipython3",
   "version": "3.9.7"
  }
 },
 "nbformat": 4,
 "nbformat_minor": 5
}
